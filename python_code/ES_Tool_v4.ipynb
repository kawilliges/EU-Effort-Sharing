{
 "cells": [
  {
   "cell_type": "code",
   "execution_count": 1,
   "metadata": {
    "pycharm": {
     "name": "#%%\n"
    }
   },
   "outputs": [],
   "source": [
    "from main import *"
   ]
  },
  {
   "cell_type": "code",
   "execution_count": 2,
   "metadata": {},
   "outputs": [],
   "source": [
    "\"\"\"\n",
    "________________________________________________________________________________________________________________________________\n",
    "REDUCTION_2030_TOTAL    relative reduction goal for EU in total\n",
    "ETS_SHARE               share of emission trading system on total carbon emission in EU\n",
    "________________________________________________________________________________________________________________________________\n",
    "\"\"\"\n",
    "REDUCTION_2030_TOTAL = 0.55\n",
    "ETS_SHARE = 0.36985\n",
    "goal_EU_2030 = calc_goal_EU_2030(data_list, REDUCTION_2030_TOTAL, ETS_SHARE)\n",
    "\n",
    "qual_dict = {\n",
    "    \"CPOP\": 0,\n",
    "    \"RES\": 0,\n",
    "    \"CBUDGET\": 0,\n",
    "    \"GDPPOP\": 0,\n",
    "    \"MIN_WELF\": 0,\n",
    "    \"1995\": 0,\n",
    "    \"2005\": 0,\n",
    "    \"BENEFITS\": 0,\n",
    "    \"EU_GDPPOP\" : 0,\n",
    "    \"GDPPOP_div\" : 0,\n",
    "    \"CBUD_stefan\" : 0,\n",
    "    \"CPOP_stefan\" : 0,\n",
    "    \"gee_n\" : 0,\n",
    "    \"RES_cap\":0\n",
    "}"
   ]
  },
  {
   "cell_type": "code",
   "execution_count": 3,
   "metadata": {},
   "outputs": [],
   "source": [
    "set_ref_distr_to_CPOP(data_list, REDUCTION_2030_TOTAL, ETS_SHARE)\n",
    "pd.options.mode.chained_assignment = None"
   ]
  },
  {
   "cell_type": "code",
   "execution_count": 4,
   "metadata": {},
   "outputs": [],
   "source": [
    "# Here a senstivity analysis for historical year \n",
    "# (just run this block over and over while changing main.py manually each time)\n",
    "\n",
    "\n",
    "create_results_csv(start=0,\n",
    "                   stop=1.05,\n",
    "                   step=0.05,\n",
    "                   qual_var=\"EU_GDPPOP\",\n",
    "                   qual_var1=\"1995\",\n",
    "                   qual_var2=\"MIN_WELF\",\n",
    "                   qual_dict=qual_dict,\n",
    "                   output=\"reduction\",\n",
    "                   goal_EU_2030=goal_EU_2030,\n",
    "                   file_name=\"hist_2000\",\n",
    "                   #normalization=\"GDPPOP\",\n",
    "                   reduction=REDUCTION_2030_TOTAL,\n",
    "                   ets_share=ETS_SHARE,\n",
    "                   zero_res=True,\n",
    "                   provision=False)"
   ]
  },
  {
   "cell_type": "code",
   "execution_count": 27,
   "metadata": {
    "pycharm": {
     "name": "#%%\n"
    },
    "tags": [
     "outputPrepend"
    ]
   },
   "outputs": [],
   "source": [
    "\"\"\"\n",
    "________________________________________________________________________________________________________________________________\n",
    "start           starting value for variable qualifications (e.g. CPOP starting at 0.1 (=10%))\n",
    "stop            upper range for variable qualications\n",
    "step            intervall that is added to start until bigger than stop\n",
    "qual_var        qualification name that should be varied from start to stop (e.g \"GDPPOP\" or \"CPOP\")\n",
    "qual_dict       dictionary to define all fixed value qualifications (including variable qualification)\n",
    "output          3 options for output of the algorithm:\n",
    "                    \"absolute\": emission goal for 2030 in t/y\n",
    "                    \"reduction\": relative reduction compared to respective 2005 emissions\n",
    "                    \"share\":    respective share of emissions in 2030 of total EU 2030 emissions\n",
    "file_name       name of results csv\n",
    "normalization   choose on of the following to normalize to its variance or remove it for no normalization\n",
    "                   [\"CPOP\",\n",
    "                    \"RES\",\n",
    "                    \"CBUDGET\",\n",
    "                    \"GDPPOP\",\n",
    "                    \"MIN_WELF\",\n",
    "                    \"1995\",\n",
    "                    \"2005\",\n",
    "                    \"BENEFITS\",\n",
    "                    \"EU_GDPPOP\",\n",
    "                    \"GDPPOP_div\",\n",
    "                    \"CBUD_stefan\",\n",
    "                    \"CPOP_stefan\"\n",
    "                    ]\n",
    "zero_res        define True or False to enable zero-restriction for countries reduction goal (default = True)\n",
    "provision       define True or False to enable provision function for countries reduction goal (default = True)\n",
    "________________________________________________________________________________________________________________________________\n",
    "\"\"\"\n",
    "\n",
    "create_results_csv(start=0,\n",
    "                   stop=0.2,\n",
    "                   step=0.05,\n",
    "                   qual_var=\"EU_GDPPOP\",\n",
    "                   qual_var1=\"CPOP\",\n",
    "                   qual_var2=\"MIN_WELF\",\n",
    "                   qual_dict=qual_dict,\n",
    "                   output=\"absolute\",\n",
    "                   goal_EU_2030=goal_EU_2030,\n",
    "                   file_name=\"test_output\",\n",
    "                   #normalization=\"GDPPOP\",\n",
    "                   reduction=REDUCTION_2030_TOTAL,\n",
    "                   ets_share=ETS_SHARE,\n",
    "                   zero_res=True,\n",
    "                   provision=False)"
   ]
  },
  {
   "cell_type": "code",
   "execution_count": 28,
   "metadata": {},
   "outputs": [],
   "source": [
    "# Define which specifications belong to which corner\n",
    "cap = [\"EU_GDPPOP\", \"GDPPOP_div\", \"gee_n\"]\n",
    "equ = [\"MIN_WELF\", \"CPOP\", \"CPOP_stefan\"]\n",
    "his = [\"1995\", \"BENEFITS\", \"CBUDGET\", \"RES\", \"CBUD_stefan\"]\n",
    "out = [\"absolute\", \"reduction\"]\n",
    "zero = [True]"
   ]
  },
  {
   "cell_type": "code",
   "execution_count": 30,
   "metadata": {
    "scrolled": false
   },
   "outputs": [],
   "source": [
    "# call create_results_csv for all possible combinations of principles \n",
    "# (nested for loops)\n",
    "for c in cap:\n",
    "    for e in equ:\n",
    "        for h in his:\n",
    "            for o in out:\n",
    "                for z in zero:\n",
    "                    z_string = str(z)\n",
    "                    create_results_csv(start=0,\n",
    "                                      stop=1.05,\n",
    "                                      step=0.05,\n",
    "                                      qual_var=c,\n",
    "                                      qual_var1=e,\n",
    "                                      qual_var2=h,\n",
    "                                      qual_dict=qual_dict,\n",
    "                                      output=o,\n",
    "                                      goal_EU_2030=goal_EU_2030,\n",
    "                                      file_name=f\"{c}-{e}-{h}-{o}-_z{z_string}\",\n",
    "                                      reduction=REDUCTION_2030_TOTAL,\n",
    "                                      ets_share=ETS_SHARE,\n",
    "                                      zero_res=z,\n",
    "                                      provision=False)\n"
   ]
  },
  {
   "cell_type": "code",
   "execution_count": 5,
   "metadata": {},
   "outputs": [],
   "source": [
    "# Now do a set for the new cap interpretation\n",
    "\n",
    "# Define which specifications belong to which corner\n",
    "cap = [\"RES_cap\"]\n",
    "equ = [\"MIN_WELF\"]\n",
    "his = [\"1995\"]\n",
    "out = [\"reduction\"]\n",
    "zero = [False]\n",
    "\n",
    "# call create_results_csv for all possible combinations of principles \n",
    "# (nested for loops)\n",
    "for c in cap:\n",
    "    for e in equ:\n",
    "        for h in his:\n",
    "            for o in out:\n",
    "                for z in zero:\n",
    "                    z_string = str(z)\n",
    "                    create_results_csv(start=0,\n",
    "                                      stop=1.05,\n",
    "                                      step=0.05,\n",
    "                                      qual_var=c,\n",
    "                                      qual_var1=e,\n",
    "                                      qual_var2=h,\n",
    "                                      qual_dict=qual_dict,\n",
    "                                      output=o,\n",
    "                                      goal_EU_2030=goal_EU_2030,\n",
    "                                      file_name=f\"{c}-{e}-{h}-{o}-_z{z_string}\",\n",
    "                                      reduction=REDUCTION_2030_TOTAL,\n",
    "                                      ets_share=ETS_SHARE,\n",
    "                                      zero_res=z,\n",
    "                                      provision=False)\n",
    "                    "
   ]
  },
  {
   "cell_type": "code",
   "execution_count": 4,
   "metadata": {
    "pycharm": {
     "name": "#%%\n"
    }
   },
   "outputs": [
    {
     "data": {
      "application/vnd.jupyter.widget-view+json": {
       "model_id": "e24ec51163ff44199067d84f90d6af45",
       "version_major": 2,
       "version_minor": 0
      },
      "text/plain": [
       "interactive(children=(FloatSlider(value=0.0, description='cpop', max=1.0, step=0.01), FloatSlider(value=0.0, d…"
      ]
     },
     "metadata": {},
     "output_type": "display_data"
    },
    {
     "data": {
      "text/plain": [
       "<function main.f(cpop, res, cbud, gdp, welf, cbud_95, cbud_05, inh_benef, eu_gdp, gdp_div, cbud_stefan, cpop_stefan, gee_n, **kwargs)>"
      ]
     },
     "execution_count": 4,
     "metadata": {},
     "output_type": "execute_result"
    }
   ],
   "source": [
    "from __future__ import print_function\n",
    "from ipywidgets import interact, interactive, fixed, interact_manual\n",
    "import ipywidgets as widgets\n",
    "\n",
    "slider = []\n",
    "for i in range(13):\n",
    "    slider.append(widgets.FloatSlider(min=-0, max=1, step=0.01, value = 0))\n",
    "interact(f, cpop = slider[0], \n",
    "            res = slider[1],\n",
    "            cbud= slider[2],\n",
    "            cbud_95= slider[3],\n",
    "            cbud_05= slider[4],\n",
    "            inh_benef= slider[5],\n",
    "            gdp = slider[6],\n",
    "            welf = slider[7],\n",
    "            eu_gdp = slider[8],\n",
    "            gdp_div = slider[9],\n",
    "            cbud_stefan = slider[10],\n",
    "            cpop_stefan = slider[11],\n",
    "            gee_n = slider[12],\n",
    "            output = [\"reduction\", \"share\", \"absolute\"], plot=True, \n",
    "            goal_EU_2030=calc_goal_EU_2030(data_list, REDUCTION_2030_TOTAL, ETS_SHARE),\n",
    "            zero_res=True,\n",
    "            provision=True)"
   ]
  }
 ],
 "metadata": {
  "interpreter": {
   "hash": "b3ba2566441a7c06988d0923437866b63cedc61552a5af99d1f4fb67d367b25f"
  },
  "kernelspec": {
   "display_name": "Python 3",
   "language": "python",
   "name": "python3"
  },
  "language_info": {
   "codemirror_mode": {
    "name": "ipython",
    "version": 3
   },
   "file_extension": ".py",
   "mimetype": "text/x-python",
   "name": "python",
   "nbconvert_exporter": "python",
   "pygments_lexer": "ipython3",
   "version": "3.7.9"
  }
 },
 "nbformat": 4,
 "nbformat_minor": 2
}
